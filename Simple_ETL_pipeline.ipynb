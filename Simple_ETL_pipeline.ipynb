{
 "cells": [
  {
   "cell_type": "code",
   "execution_count": 32,
   "id": "initial_id",
   "metadata": {
    "collapsed": true,
    "ExecuteTime": {
     "end_time": "2024-08-12T22:27:09.883251Z",
     "start_time": "2024-08-12T22:27:08.110708Z"
    }
   },
   "outputs": [],
   "source": [
    "#importing the necessary library's\n",
    "import pandas as pd #data manipulation\n",
    "import psycopg2 #for connectivity\n",
    "from sqlalchemy import create_engine\n"
   ]
  },
  {
   "cell_type": "code",
   "execution_count": 4,
   "outputs": [],
   "source": [
    "#Extracting the data from the data source\n",
    "df = pd.read_csv('Softwork Technologies - Sheet1.csv')"
   ],
   "metadata": {
    "collapsed": false,
    "ExecuteTime": {
     "end_time": "2024-08-12T19:08:54.770869Z",
     "start_time": "2024-08-12T19:08:54.727013Z"
    }
   },
   "id": "54fba8588d99d58c"
  },
  {
   "cell_type": "code",
   "execution_count": 26,
   "outputs": [
    {
     "data": {
      "text/plain": "   employee_id         department     region   education gender  \\\n0         8724         Technology  region_26  Bachelor's      m   \n1        74430                 HR   region_4  Bachelor's      f   \n2        72255  Sales & Marketing  region_13  Bachelor's      m   \n3        38562        Procurement   region_2  Bachelor's      f   \n4        64486            Finance  region_29  Bachelor's      m   \n\n  recruitment_channel  no_of_trainings  age  previous_year_rating  \\\n0            sourcing                1   24                   NaN   \n1               other                1   31                   3.0   \n2               other                1   31                   1.0   \n3               other                3   31                   2.0   \n4            sourcing                1   30                   4.0   \n\n   length_of_service  awards_won  avg_training_score  \n0                  1           0                  77  \n1                  5           0                  51  \n2                  4           0                  47  \n3                  9           0                  65  \n4                  7           0                  61  ",
      "text/html": "<div>\n<style scoped>\n    .dataframe tbody tr th:only-of-type {\n        vertical-align: middle;\n    }\n\n    .dataframe tbody tr th {\n        vertical-align: top;\n    }\n\n    .dataframe thead th {\n        text-align: right;\n    }\n</style>\n<table border=\"1\" class=\"dataframe\">\n  <thead>\n    <tr style=\"text-align: right;\">\n      <th></th>\n      <th>employee_id</th>\n      <th>department</th>\n      <th>region</th>\n      <th>education</th>\n      <th>gender</th>\n      <th>recruitment_channel</th>\n      <th>no_of_trainings</th>\n      <th>age</th>\n      <th>previous_year_rating</th>\n      <th>length_of_service</th>\n      <th>awards_won</th>\n      <th>avg_training_score</th>\n    </tr>\n  </thead>\n  <tbody>\n    <tr>\n      <th>0</th>\n      <td>8724</td>\n      <td>Technology</td>\n      <td>region_26</td>\n      <td>Bachelor's</td>\n      <td>m</td>\n      <td>sourcing</td>\n      <td>1</td>\n      <td>24</td>\n      <td>NaN</td>\n      <td>1</td>\n      <td>0</td>\n      <td>77</td>\n    </tr>\n    <tr>\n      <th>1</th>\n      <td>74430</td>\n      <td>HR</td>\n      <td>region_4</td>\n      <td>Bachelor's</td>\n      <td>f</td>\n      <td>other</td>\n      <td>1</td>\n      <td>31</td>\n      <td>3.0</td>\n      <td>5</td>\n      <td>0</td>\n      <td>51</td>\n    </tr>\n    <tr>\n      <th>2</th>\n      <td>72255</td>\n      <td>Sales &amp; Marketing</td>\n      <td>region_13</td>\n      <td>Bachelor's</td>\n      <td>m</td>\n      <td>other</td>\n      <td>1</td>\n      <td>31</td>\n      <td>1.0</td>\n      <td>4</td>\n      <td>0</td>\n      <td>47</td>\n    </tr>\n    <tr>\n      <th>3</th>\n      <td>38562</td>\n      <td>Procurement</td>\n      <td>region_2</td>\n      <td>Bachelor's</td>\n      <td>f</td>\n      <td>other</td>\n      <td>3</td>\n      <td>31</td>\n      <td>2.0</td>\n      <td>9</td>\n      <td>0</td>\n      <td>65</td>\n    </tr>\n    <tr>\n      <th>4</th>\n      <td>64486</td>\n      <td>Finance</td>\n      <td>region_29</td>\n      <td>Bachelor's</td>\n      <td>m</td>\n      <td>sourcing</td>\n      <td>1</td>\n      <td>30</td>\n      <td>4.0</td>\n      <td>7</td>\n      <td>0</td>\n      <td>61</td>\n    </tr>\n  </tbody>\n</table>\n</div>"
     },
     "execution_count": 26,
     "metadata": {},
     "output_type": "execute_result"
    }
   ],
   "source": [
    "#exploratory data analysis\n",
    "df.head()"
   ],
   "metadata": {
    "collapsed": false,
    "ExecuteTime": {
     "end_time": "2024-08-12T17:41:09.011985Z",
     "start_time": "2024-08-12T17:41:09.001419Z"
    }
   },
   "id": "f28cf2ecf78a9fb2"
  },
  {
   "cell_type": "code",
   "execution_count": 5,
   "outputs": [
    {
     "data": {
      "text/plain": "        employee_id  no_of_trainings           age  previous_year_rating  \\\ncount  23490.000000     23490.000000  23490.000000          21678.000000   \nmean   39041.399149         1.254236     34.782929              3.339146   \nstd    22640.809201         0.600910      7.679492              1.263294   \nmin        3.000000         1.000000     20.000000              1.000000   \n25%    19370.250000         1.000000     29.000000              3.000000   \n50%    38963.500000         1.000000     33.000000              3.000000   \n75%    58690.000000         1.000000     39.000000              4.000000   \nmax    78295.000000         9.000000     60.000000              5.000000   \n\n       length_of_service    awards_won  avg_training_score  \ncount       23490.000000  23490.000000        23490.000000  \nmean            5.810387      0.022776           63.263133  \nstd             4.207917      0.149191           13.411750  \nmin             1.000000      0.000000           39.000000  \n25%             3.000000      0.000000           51.000000  \n50%             5.000000      0.000000           60.000000  \n75%             7.000000      0.000000           76.000000  \nmax            34.000000      1.000000           99.000000  ",
      "text/html": "<div>\n<style scoped>\n    .dataframe tbody tr th:only-of-type {\n        vertical-align: middle;\n    }\n\n    .dataframe tbody tr th {\n        vertical-align: top;\n    }\n\n    .dataframe thead th {\n        text-align: right;\n    }\n</style>\n<table border=\"1\" class=\"dataframe\">\n  <thead>\n    <tr style=\"text-align: right;\">\n      <th></th>\n      <th>employee_id</th>\n      <th>no_of_trainings</th>\n      <th>age</th>\n      <th>previous_year_rating</th>\n      <th>length_of_service</th>\n      <th>awards_won</th>\n      <th>avg_training_score</th>\n    </tr>\n  </thead>\n  <tbody>\n    <tr>\n      <th>count</th>\n      <td>23490.000000</td>\n      <td>23490.000000</td>\n      <td>23490.000000</td>\n      <td>21678.000000</td>\n      <td>23490.000000</td>\n      <td>23490.000000</td>\n      <td>23490.000000</td>\n    </tr>\n    <tr>\n      <th>mean</th>\n      <td>39041.399149</td>\n      <td>1.254236</td>\n      <td>34.782929</td>\n      <td>3.339146</td>\n      <td>5.810387</td>\n      <td>0.022776</td>\n      <td>63.263133</td>\n    </tr>\n    <tr>\n      <th>std</th>\n      <td>22640.809201</td>\n      <td>0.600910</td>\n      <td>7.679492</td>\n      <td>1.263294</td>\n      <td>4.207917</td>\n      <td>0.149191</td>\n      <td>13.411750</td>\n    </tr>\n    <tr>\n      <th>min</th>\n      <td>3.000000</td>\n      <td>1.000000</td>\n      <td>20.000000</td>\n      <td>1.000000</td>\n      <td>1.000000</td>\n      <td>0.000000</td>\n      <td>39.000000</td>\n    </tr>\n    <tr>\n      <th>25%</th>\n      <td>19370.250000</td>\n      <td>1.000000</td>\n      <td>29.000000</td>\n      <td>3.000000</td>\n      <td>3.000000</td>\n      <td>0.000000</td>\n      <td>51.000000</td>\n    </tr>\n    <tr>\n      <th>50%</th>\n      <td>38963.500000</td>\n      <td>1.000000</td>\n      <td>33.000000</td>\n      <td>3.000000</td>\n      <td>5.000000</td>\n      <td>0.000000</td>\n      <td>60.000000</td>\n    </tr>\n    <tr>\n      <th>75%</th>\n      <td>58690.000000</td>\n      <td>1.000000</td>\n      <td>39.000000</td>\n      <td>4.000000</td>\n      <td>7.000000</td>\n      <td>0.000000</td>\n      <td>76.000000</td>\n    </tr>\n    <tr>\n      <th>max</th>\n      <td>78295.000000</td>\n      <td>9.000000</td>\n      <td>60.000000</td>\n      <td>5.000000</td>\n      <td>34.000000</td>\n      <td>1.000000</td>\n      <td>99.000000</td>\n    </tr>\n  </tbody>\n</table>\n</div>"
     },
     "execution_count": 5,
     "metadata": {},
     "output_type": "execute_result"
    }
   ],
   "source": [
    "df.describe()"
   ],
   "metadata": {
    "collapsed": false,
    "ExecuteTime": {
     "end_time": "2024-08-12T19:08:56.730728Z",
     "start_time": "2024-08-12T19:08:56.681346Z"
    }
   },
   "id": "679f9e3c74627d35"
  },
  {
   "cell_type": "code",
   "execution_count": 6,
   "outputs": [
    {
     "name": "stdout",
     "output_type": "stream",
     "text": [
      "<class 'pandas.core.frame.DataFrame'>\n",
      "RangeIndex: 23490 entries, 0 to 23489\n",
      "Data columns (total 12 columns):\n",
      " #   Column                Non-Null Count  Dtype  \n",
      "---  ------                --------------  -----  \n",
      " 0   employee_id           23490 non-null  int64  \n",
      " 1   department            23490 non-null  object \n",
      " 2   region                23490 non-null  object \n",
      " 3   education             22456 non-null  object \n",
      " 4   gender                23490 non-null  object \n",
      " 5   recruitment_channel   23490 non-null  object \n",
      " 6   no_of_trainings       23490 non-null  int64  \n",
      " 7   age                   23490 non-null  int64  \n",
      " 8   previous_year_rating  21678 non-null  float64\n",
      " 9   length_of_service     23490 non-null  int64  \n",
      " 10  awards_won            23490 non-null  int64  \n",
      " 11  avg_training_score    23490 non-null  int64  \n",
      "dtypes: float64(1), int64(6), object(5)\n",
      "memory usage: 2.2+ MB\n"
     ]
    }
   ],
   "source": [
    "df.info()"
   ],
   "metadata": {
    "collapsed": false,
    "ExecuteTime": {
     "end_time": "2024-08-12T19:09:00.604335Z",
     "start_time": "2024-08-12T19:09:00.577038Z"
    }
   },
   "id": "a0b7b9881d91eb2"
  },
  {
   "cell_type": "code",
   "execution_count": 7,
   "outputs": [
    {
     "name": "stdout",
     "output_type": "stream",
     "text": [
      "There are 0 duplicates\n"
     ]
    }
   ],
   "source": [
    "print(f'There are {df.duplicated().sum()} duplicates')#the amount of duplicated data"
   ],
   "metadata": {
    "collapsed": false,
    "ExecuteTime": {
     "end_time": "2024-08-12T19:09:04.851504Z",
     "start_time": "2024-08-12T19:09:04.826438Z"
    }
   },
   "id": "4e49b0b8d28dd3ce"
  },
  {
   "cell_type": "code",
   "execution_count": 8,
   "outputs": [
    {
     "data": {
      "text/plain": "employee_id                0\ndepartment                 0\nregion                     0\neducation               1034\ngender                     0\nrecruitment_channel        0\nno_of_trainings            0\nage                        0\nprevious_year_rating    1812\nlength_of_service          0\nawards_won                 0\navg_training_score         0\ndtype: int64"
     },
     "execution_count": 8,
     "metadata": {},
     "output_type": "execute_result"
    }
   ],
   "source": [
    "df.isnull().sum() #the amount of null values in each column"
   ],
   "metadata": {
    "collapsed": false,
    "ExecuteTime": {
     "end_time": "2024-08-12T19:09:08.217458Z",
     "start_time": "2024-08-12T19:09:08.201517Z"
    }
   },
   "id": "e30b7f651f53de83"
  },
  {
   "cell_type": "code",
   "execution_count": 10,
   "outputs": [
    {
     "data": {
      "text/plain": "       employee_id         department     region education gender  \\\n49            3720  Sales & Marketing   region_2       NaN      m   \n67           26977         Operations   region_2       NaN      m   \n89            2347          Analytics  region_15       NaN      m   \n127          42719          Analytics  region_21       NaN      m   \n138           2721          Analytics  region_22       NaN      f   \n...            ...                ...        ...       ...    ...   \n23415        14036  Sales & Marketing   region_7       NaN      m   \n23424         5890          Analytics  region_15       NaN      m   \n23452        65429          Analytics  region_15       NaN      m   \n23459        30477  Sales & Marketing  region_22       NaN      m   \n23482        27284  Sales & Marketing   region_2       NaN      m   \n\n      recruitment_channel  no_of_trainings  age  previous_year_rating  \\\n49               sourcing                1   36                   5.0   \n67               sourcing                1   28                   3.0   \n89                  other                2   37                   5.0   \n127              sourcing                1   27                   NaN   \n138              sourcing                2   26                   5.0   \n...                   ...              ...  ...                   ...   \n23415               other                6   26                   3.0   \n23424            sourcing                1   34                   3.0   \n23452            sourcing                1   30                   2.0   \n23459               other                1   31                   2.0   \n23482            sourcing                2   44                   4.0   \n\n       length_of_service  awards_won  avg_training_score  \n49                     4           0                  49  \n67                     3           0                  59  \n89                     8           0                  82  \n127                    1           0                  80  \n138                    3           0                  86  \n...                  ...         ...                 ...  \n23415                  3           0                  48  \n23424                  5           0                  87  \n23452                  7           0                  83  \n23459                  7           0                  52  \n23482                  4           0                  49  \n\n[1034 rows x 12 columns]",
      "text/html": "<div>\n<style scoped>\n    .dataframe tbody tr th:only-of-type {\n        vertical-align: middle;\n    }\n\n    .dataframe tbody tr th {\n        vertical-align: top;\n    }\n\n    .dataframe thead th {\n        text-align: right;\n    }\n</style>\n<table border=\"1\" class=\"dataframe\">\n  <thead>\n    <tr style=\"text-align: right;\">\n      <th></th>\n      <th>employee_id</th>\n      <th>department</th>\n      <th>region</th>\n      <th>education</th>\n      <th>gender</th>\n      <th>recruitment_channel</th>\n      <th>no_of_trainings</th>\n      <th>age</th>\n      <th>previous_year_rating</th>\n      <th>length_of_service</th>\n      <th>awards_won</th>\n      <th>avg_training_score</th>\n    </tr>\n  </thead>\n  <tbody>\n    <tr>\n      <th>49</th>\n      <td>3720</td>\n      <td>Sales &amp; Marketing</td>\n      <td>region_2</td>\n      <td>NaN</td>\n      <td>m</td>\n      <td>sourcing</td>\n      <td>1</td>\n      <td>36</td>\n      <td>5.0</td>\n      <td>4</td>\n      <td>0</td>\n      <td>49</td>\n    </tr>\n    <tr>\n      <th>67</th>\n      <td>26977</td>\n      <td>Operations</td>\n      <td>region_2</td>\n      <td>NaN</td>\n      <td>m</td>\n      <td>sourcing</td>\n      <td>1</td>\n      <td>28</td>\n      <td>3.0</td>\n      <td>3</td>\n      <td>0</td>\n      <td>59</td>\n    </tr>\n    <tr>\n      <th>89</th>\n      <td>2347</td>\n      <td>Analytics</td>\n      <td>region_15</td>\n      <td>NaN</td>\n      <td>m</td>\n      <td>other</td>\n      <td>2</td>\n      <td>37</td>\n      <td>5.0</td>\n      <td>8</td>\n      <td>0</td>\n      <td>82</td>\n    </tr>\n    <tr>\n      <th>127</th>\n      <td>42719</td>\n      <td>Analytics</td>\n      <td>region_21</td>\n      <td>NaN</td>\n      <td>m</td>\n      <td>sourcing</td>\n      <td>1</td>\n      <td>27</td>\n      <td>NaN</td>\n      <td>1</td>\n      <td>0</td>\n      <td>80</td>\n    </tr>\n    <tr>\n      <th>138</th>\n      <td>2721</td>\n      <td>Analytics</td>\n      <td>region_22</td>\n      <td>NaN</td>\n      <td>f</td>\n      <td>sourcing</td>\n      <td>2</td>\n      <td>26</td>\n      <td>5.0</td>\n      <td>3</td>\n      <td>0</td>\n      <td>86</td>\n    </tr>\n    <tr>\n      <th>...</th>\n      <td>...</td>\n      <td>...</td>\n      <td>...</td>\n      <td>...</td>\n      <td>...</td>\n      <td>...</td>\n      <td>...</td>\n      <td>...</td>\n      <td>...</td>\n      <td>...</td>\n      <td>...</td>\n      <td>...</td>\n    </tr>\n    <tr>\n      <th>23415</th>\n      <td>14036</td>\n      <td>Sales &amp; Marketing</td>\n      <td>region_7</td>\n      <td>NaN</td>\n      <td>m</td>\n      <td>other</td>\n      <td>6</td>\n      <td>26</td>\n      <td>3.0</td>\n      <td>3</td>\n      <td>0</td>\n      <td>48</td>\n    </tr>\n    <tr>\n      <th>23424</th>\n      <td>5890</td>\n      <td>Analytics</td>\n      <td>region_15</td>\n      <td>NaN</td>\n      <td>m</td>\n      <td>sourcing</td>\n      <td>1</td>\n      <td>34</td>\n      <td>3.0</td>\n      <td>5</td>\n      <td>0</td>\n      <td>87</td>\n    </tr>\n    <tr>\n      <th>23452</th>\n      <td>65429</td>\n      <td>Analytics</td>\n      <td>region_15</td>\n      <td>NaN</td>\n      <td>m</td>\n      <td>sourcing</td>\n      <td>1</td>\n      <td>30</td>\n      <td>2.0</td>\n      <td>7</td>\n      <td>0</td>\n      <td>83</td>\n    </tr>\n    <tr>\n      <th>23459</th>\n      <td>30477</td>\n      <td>Sales &amp; Marketing</td>\n      <td>region_22</td>\n      <td>NaN</td>\n      <td>m</td>\n      <td>other</td>\n      <td>1</td>\n      <td>31</td>\n      <td>2.0</td>\n      <td>7</td>\n      <td>0</td>\n      <td>52</td>\n    </tr>\n    <tr>\n      <th>23482</th>\n      <td>27284</td>\n      <td>Sales &amp; Marketing</td>\n      <td>region_2</td>\n      <td>NaN</td>\n      <td>m</td>\n      <td>sourcing</td>\n      <td>2</td>\n      <td>44</td>\n      <td>4.0</td>\n      <td>4</td>\n      <td>0</td>\n      <td>49</td>\n    </tr>\n  </tbody>\n</table>\n<p>1034 rows × 12 columns</p>\n</div>"
     },
     "execution_count": 10,
     "metadata": {},
     "output_type": "execute_result"
    }
   ],
   "source": [
    "df[df['education'].isnull()]"
   ],
   "metadata": {
    "collapsed": false,
    "ExecuteTime": {
     "end_time": "2024-08-12T19:09:52.324640Z",
     "start_time": "2024-08-12T19:09:52.309204Z"
    }
   },
   "id": "55b09ee81f0fef5c"
  },
  {
   "cell_type": "code",
   "execution_count": 11,
   "outputs": [
    {
     "data": {
      "text/plain": "       employee_id         department     region         education gender  \\\n0             8724         Technology  region_26        Bachelor's      m   \n21            5677         Technology  region_17        Bachelor's      m   \n32           67672         Technology  region_17        Bachelor's      m   \n39           55325          Analytics  region_22        Bachelor's      m   \n47           44159          Analytics  region_22  Master's & above      m   \n...            ...                ...        ...               ...    ...   \n23406        53291         Operations   region_4        Bachelor's      m   \n23436        10138         Technology   region_2        Bachelor's      f   \n23445        65765          Analytics  region_31        Bachelor's      m   \n23479        39410  Sales & Marketing   region_2        Bachelor's      m   \n23488         1186        Procurement  region_31        Bachelor's      m   \n\n      recruitment_channel  no_of_trainings  age  previous_year_rating  \\\n0                sourcing                1   24                   NaN   \n21               sourcing                1   25                   NaN   \n32                  other                1   29                   NaN   \n39                  other                1   25                   NaN   \n47                  other                1   31                   NaN   \n...                   ...              ...  ...                   ...   \n23406            sourcing                1   32                   NaN   \n23436            referred                1   29                   NaN   \n23445            sourcing                3   28                   NaN   \n23479               other                3   20                   NaN   \n23488            sourcing                3   27                   NaN   \n\n       length_of_service  awards_won  avg_training_score  \n0                      1           0                  77  \n21                     1           0                  80  \n32                     1           0                  85  \n39                     1           0                  88  \n47                     1           0                  84  \n...                  ...         ...                 ...  \n23406                  1           0                  62  \n23436                  1           0                  79  \n23445                  1           0                  86  \n23479                  1           0                  49  \n23488                  1           0                  70  \n\n[1812 rows x 12 columns]",
      "text/html": "<div>\n<style scoped>\n    .dataframe tbody tr th:only-of-type {\n        vertical-align: middle;\n    }\n\n    .dataframe tbody tr th {\n        vertical-align: top;\n    }\n\n    .dataframe thead th {\n        text-align: right;\n    }\n</style>\n<table border=\"1\" class=\"dataframe\">\n  <thead>\n    <tr style=\"text-align: right;\">\n      <th></th>\n      <th>employee_id</th>\n      <th>department</th>\n      <th>region</th>\n      <th>education</th>\n      <th>gender</th>\n      <th>recruitment_channel</th>\n      <th>no_of_trainings</th>\n      <th>age</th>\n      <th>previous_year_rating</th>\n      <th>length_of_service</th>\n      <th>awards_won</th>\n      <th>avg_training_score</th>\n    </tr>\n  </thead>\n  <tbody>\n    <tr>\n      <th>0</th>\n      <td>8724</td>\n      <td>Technology</td>\n      <td>region_26</td>\n      <td>Bachelor's</td>\n      <td>m</td>\n      <td>sourcing</td>\n      <td>1</td>\n      <td>24</td>\n      <td>NaN</td>\n      <td>1</td>\n      <td>0</td>\n      <td>77</td>\n    </tr>\n    <tr>\n      <th>21</th>\n      <td>5677</td>\n      <td>Technology</td>\n      <td>region_17</td>\n      <td>Bachelor's</td>\n      <td>m</td>\n      <td>sourcing</td>\n      <td>1</td>\n      <td>25</td>\n      <td>NaN</td>\n      <td>1</td>\n      <td>0</td>\n      <td>80</td>\n    </tr>\n    <tr>\n      <th>32</th>\n      <td>67672</td>\n      <td>Technology</td>\n      <td>region_17</td>\n      <td>Bachelor's</td>\n      <td>m</td>\n      <td>other</td>\n      <td>1</td>\n      <td>29</td>\n      <td>NaN</td>\n      <td>1</td>\n      <td>0</td>\n      <td>85</td>\n    </tr>\n    <tr>\n      <th>39</th>\n      <td>55325</td>\n      <td>Analytics</td>\n      <td>region_22</td>\n      <td>Bachelor's</td>\n      <td>m</td>\n      <td>other</td>\n      <td>1</td>\n      <td>25</td>\n      <td>NaN</td>\n      <td>1</td>\n      <td>0</td>\n      <td>88</td>\n    </tr>\n    <tr>\n      <th>47</th>\n      <td>44159</td>\n      <td>Analytics</td>\n      <td>region_22</td>\n      <td>Master's &amp; above</td>\n      <td>m</td>\n      <td>other</td>\n      <td>1</td>\n      <td>31</td>\n      <td>NaN</td>\n      <td>1</td>\n      <td>0</td>\n      <td>84</td>\n    </tr>\n    <tr>\n      <th>...</th>\n      <td>...</td>\n      <td>...</td>\n      <td>...</td>\n      <td>...</td>\n      <td>...</td>\n      <td>...</td>\n      <td>...</td>\n      <td>...</td>\n      <td>...</td>\n      <td>...</td>\n      <td>...</td>\n      <td>...</td>\n    </tr>\n    <tr>\n      <th>23406</th>\n      <td>53291</td>\n      <td>Operations</td>\n      <td>region_4</td>\n      <td>Bachelor's</td>\n      <td>m</td>\n      <td>sourcing</td>\n      <td>1</td>\n      <td>32</td>\n      <td>NaN</td>\n      <td>1</td>\n      <td>0</td>\n      <td>62</td>\n    </tr>\n    <tr>\n      <th>23436</th>\n      <td>10138</td>\n      <td>Technology</td>\n      <td>region_2</td>\n      <td>Bachelor's</td>\n      <td>f</td>\n      <td>referred</td>\n      <td>1</td>\n      <td>29</td>\n      <td>NaN</td>\n      <td>1</td>\n      <td>0</td>\n      <td>79</td>\n    </tr>\n    <tr>\n      <th>23445</th>\n      <td>65765</td>\n      <td>Analytics</td>\n      <td>region_31</td>\n      <td>Bachelor's</td>\n      <td>m</td>\n      <td>sourcing</td>\n      <td>3</td>\n      <td>28</td>\n      <td>NaN</td>\n      <td>1</td>\n      <td>0</td>\n      <td>86</td>\n    </tr>\n    <tr>\n      <th>23479</th>\n      <td>39410</td>\n      <td>Sales &amp; Marketing</td>\n      <td>region_2</td>\n      <td>Bachelor's</td>\n      <td>m</td>\n      <td>other</td>\n      <td>3</td>\n      <td>20</td>\n      <td>NaN</td>\n      <td>1</td>\n      <td>0</td>\n      <td>49</td>\n    </tr>\n    <tr>\n      <th>23488</th>\n      <td>1186</td>\n      <td>Procurement</td>\n      <td>region_31</td>\n      <td>Bachelor's</td>\n      <td>m</td>\n      <td>sourcing</td>\n      <td>3</td>\n      <td>27</td>\n      <td>NaN</td>\n      <td>1</td>\n      <td>0</td>\n      <td>70</td>\n    </tr>\n  </tbody>\n</table>\n<p>1812 rows × 12 columns</p>\n</div>"
     },
     "execution_count": 11,
     "metadata": {},
     "output_type": "execute_result"
    }
   ],
   "source": [
    "df[df['previous_year_rating'].isnull()]"
   ],
   "metadata": {
    "collapsed": false,
    "ExecuteTime": {
     "end_time": "2024-08-12T19:10:28.246397Z",
     "start_time": "2024-08-12T19:10:28.218392Z"
    }
   },
   "id": "aa702f0907ee16b7"
  },
  {
   "cell_type": "code",
   "execution_count": 1,
   "outputs": [
    {
     "ename": "NameError",
     "evalue": "name 'df' is not defined",
     "output_type": "error",
     "traceback": [
      "\u001B[0;31m---------------------------------------------------------------------------\u001B[0m",
      "\u001B[0;31mNameError\u001B[0m                                 Traceback (most recent call last)",
      "Cell \u001B[0;32mIn[1], line 1\u001B[0m\n\u001B[0;32m----> 1\u001B[0m df\u001B[38;5;241m.\u001B[39mdropna(inplace \u001B[38;5;241m=\u001B[39m \u001B[38;5;28;01mTrue\u001B[39;00m)\n",
      "\u001B[0;31mNameError\u001B[0m: name 'df' is not defined"
     ]
    }
   ],
   "source": [
    "#df.dropna(inplace = True) #we dont want to remove the employees just because we dont know their educatioonal status\n",
    "#df.drop_duplicates(inplace = True)"
   ],
   "metadata": {
    "collapsed": false,
    "ExecuteTime": {
     "end_time": "2024-08-12T19:08:38.630828Z",
     "start_time": "2024-08-12T19:08:38.064053Z"
    }
   },
   "id": "a9f77425bc88f768"
  },
  {
   "cell_type": "code",
   "execution_count": 16,
   "outputs": [],
   "source": [
    "df['education'].fillna('unknown',inplace=True)\n",
    "#all the null values in the education column has been replaced with unknown\n",
    "df['previous_year_rating'].fillna(0,inplace=True)\n",
    "#The previous year ratings that were null are now 0"
   ],
   "metadata": {
    "collapsed": false,
    "ExecuteTime": {
     "end_time": "2024-08-12T19:15:35.938496Z",
     "start_time": "2024-08-12T19:15:35.919255Z"
    }
   },
   "id": "73bcb1fa8780efd0"
  },
  {
   "cell_type": "code",
   "execution_count": 17,
   "outputs": [
    {
     "data": {
      "text/plain": "employee_id             0\ndepartment              0\nregion                  0\neducation               0\ngender                  0\nrecruitment_channel     0\nno_of_trainings         0\nage                     0\nprevious_year_rating    0\nlength_of_service       0\nawards_won              0\navg_training_score      0\ndtype: int64"
     },
     "execution_count": 17,
     "metadata": {},
     "output_type": "execute_result"
    }
   ],
   "source": [
    "df.isna().sum()"
   ],
   "metadata": {
    "collapsed": false,
    "ExecuteTime": {
     "end_time": "2024-08-12T19:15:37.236971Z",
     "start_time": "2024-08-12T19:15:37.220099Z"
    }
   },
   "id": "c8397750b77e1b98"
  },
  {
   "cell_type": "code",
   "execution_count": 22,
   "outputs": [
    {
     "data": {
      "text/plain": "employee_id             0\ndepartment              0\nregion                  0\neducation               0\ngender                  0\nrecruitment_channel     0\nno_of_trainings         0\nage                     0\nprevious_year_rating    0\nlength_of_service       0\nawards_won              0\navg_training_score      0\ndtype: int64"
     },
     "execution_count": 22,
     "metadata": {},
     "output_type": "execute_result"
    }
   ],
   "source": [
    "df.isnull().sum()"
   ],
   "metadata": {
    "collapsed": false,
    "ExecuteTime": {
     "end_time": "2024-08-12T19:16:12.244456Z",
     "start_time": "2024-08-12T19:16:12.232467Z"
    }
   },
   "id": "958c9ec76f09ccc8"
  },
  {
   "cell_type": "code",
   "execution_count": 39,
   "outputs": [],
   "source": [
    "#creating the database/connecting to the database\n",
    "\n",
    "#db credentials\n",
    "username = 'postgres'\n",
    "password = '********'\n",
    "host = 'localhost'\n",
    "port = 5432\n",
    "db_name = 'postgres'"
   ],
   "metadata": {
    "collapsed": false,
    "ExecuteTime": {
     "end_time": "2024-08-12T22:44:32.516609Z",
     "start_time": "2024-08-12T22:44:32.510865Z"
    }
   },
   "id": "779c66977a79a5a2"
  },
  {
   "cell_type": "code",
   "execution_count": 40,
   "outputs": [],
   "source": [
    "#establishing a connection\n",
    "engine = create_engine(f'postgresql://{username}:{password}@{host}:{port}/{db_name}')"
   ],
   "metadata": {
    "collapsed": false,
    "ExecuteTime": {
     "end_time": "2024-08-12T22:44:33.890297Z",
     "start_time": "2024-08-12T22:44:33.885122Z"
    }
   },
   "id": "983e0131cd6b6a95"
  },
  {
   "cell_type": "code",
   "execution_count": 43,
   "outputs": [],
   "source": [
    "#load the data into emp_tble , this is the name of the table in the database\n",
    "df.to_sql('emp_tble', engine, if_exists = 'replace', index= False)\n",
    "\n",
    "#close the connection\n",
    "engine.dispose() "
   ],
   "metadata": {
    "collapsed": false,
    "ExecuteTime": {
     "end_time": "2024-08-12T22:45:59.157228Z",
     "start_time": "2024-08-12T22:45:57.948342Z"
    }
   },
   "id": "e9e07038fe867cc7"
  }
 ],
 "metadata": {
  "kernelspec": {
   "display_name": "Python 3",
   "language": "python",
   "name": "python3"
  },
  "language_info": {
   "codemirror_mode": {
    "name": "ipython",
    "version": 2
   },
   "file_extension": ".py",
   "mimetype": "text/x-python",
   "name": "python",
   "nbconvert_exporter": "python",
   "pygments_lexer": "ipython2",
   "version": "2.7.6"
  }
 },
 "nbformat": 4,
 "nbformat_minor": 5
}
